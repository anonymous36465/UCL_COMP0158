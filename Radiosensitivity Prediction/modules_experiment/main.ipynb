{
 "cells": [
  {
   "cell_type": "markdown",
   "id": "24c954d4",
   "metadata": {},
   "source": [
    "# Does grouping genes into modules improve performance?"
   ]
  },
  {
   "cell_type": "markdown",
   "id": "2479b56f",
   "metadata": {},
   "source": [
    "`Supplementary_Data_2.xlsx` contains the gene groups and can be doenloaded from https://www.nature.com/articles/s41588-021-00840-z 'Supplementary Material 2'."
   ]
  },
  {
   "cell_type": "code",
   "execution_count": 1,
   "id": "d127b8ee",
   "metadata": {},
   "outputs": [
    {
     "name": "stdout",
     "output_type": "stream",
     "text": [
      "Requirement already satisfied: openpyxl in c:\\users\\mmarc\\miniconda3\\envs\\pnet-repro\\lib\\site-packages (3.1.5)\n",
      "Requirement already satisfied: et-xmlfile in c:\\users\\mmarc\\miniconda3\\envs\\pnet-repro\\lib\\site-packages (from openpyxl) (2.0.0)\n"
     ]
    },
    {
     "name": "stderr",
     "output_type": "stream",
     "text": [
      "c:\\Users\\mmarc\\miniconda3\\envs\\pnet-repro\\lib\\site-packages\\scipy\\__init__.py:138: UserWarning: A NumPy version >=1.16.5 and <1.23.0 is required for this version of SciPy (detected version 1.23.0)\n",
      "  warnings.warn(f\"A NumPy version >={np_minversion} and <{np_maxversion} is required for this version of \"\n"
     ]
    }
   ],
   "source": [
    "!pip install openpyxl\n",
    "\n",
    "import pandas as pd\n",
    "import numpy as np\n",
    "from pygsva import gsva, gsvaParam\n",
    "import pandas as pd\n",
    "import numpy as np"
   ]
  },
  {
   "cell_type": "markdown",
   "id": "9c8c1480",
   "metadata": {},
   "source": [
    "### Create a dictionary that maps modules to list of genes"
   ]
  },
  {
   "cell_type": "code",
   "execution_count": 2,
   "id": "d0b47e3c",
   "metadata": {},
   "outputs": [],
   "source": [
    "df = pd.read_excel('Supplementary_Data_2.xlsx', sheet_name='Co-essential Modules', skiprows=2)\n",
    "df['Module #'] = df['Module #'].astype(str)\n",
    "\n",
    "gene_start_col = 13\n",
    "# Create the dictionary\n",
    "module_to_genes = {\n",
    "    row['Module #']: [gene for gene in row[gene_start_col:] if pd.notna(gene)]\n",
    "    for _, row in df.iterrows()\n",
    "}\n",
    "\n",
    "gene_sets = {str(k): v for k, v in module_to_genes.items()}"
   ]
  },
  {
   "cell_type": "code",
   "execution_count": 3,
   "id": "4725de69",
   "metadata": {},
   "outputs": [
    {
     "data": {
      "text/plain": [
       "5229"
      ]
     },
     "execution_count": 3,
     "metadata": {},
     "output_type": "execute_result"
    }
   ],
   "source": [
    "len(gene_sets)"
   ]
  },
  {
   "cell_type": "code",
   "execution_count": null,
   "id": "43608484",
   "metadata": {},
   "outputs": [],
   "source": [
    "# # Flatten dictionary to two-column format\n",
    "# rows = [(module, gene) for module, genes in module_to_genes.items() for gene in genes]\n",
    "# df_mod_to_gene = pd.DataFrame(rows, columns=[\"module\", \"gene\"])\n",
    "\n",
    "# # Save to CSV\n",
    "# df_mod_to_gene.to_csv(\"module_to_genes/module_to_genes.csv\", index=False)"
   ]
  },
  {
   "cell_type": "markdown",
   "id": "f898c3c2",
   "metadata": {},
   "source": [
    "### (optional) Filter the dictionary to only include genes/modules present in your expression data\n",
    "If this is not done, just use `module_to_genes.csv`"
   ]
  },
  {
   "cell_type": "code",
   "execution_count": 4,
   "id": "a53947a3",
   "metadata": {},
   "outputs": [],
   "source": [
    "\"\"\" MODIFY \"\"\"\n",
    "# whether to use all modules or just a subset\n",
    "# options: \"all\", \"most-enriched\", int\n",
    "number_of_modules = \"all\""
   ]
  },
  {
   "cell_type": "code",
   "execution_count": 6,
   "id": "05ebd879",
   "metadata": {},
   "outputs": [
    {
     "name": "stdout",
     "output_type": "stream",
     "text": [
      "Expression data has 14608 genes.\n"
     ]
    }
   ],
   "source": [
    "\"\"\"MODIFY\"\"\"\n",
    "# Load expression data\n",
    "data_name = \"methylation_imputed\"\n",
    "expression_data = pd.read_csv(f\"../data/Cleveland/{data_name}.csv\", index_col=0).T\n",
    "# expression_data.drop(['Entrez_Gene_Id'], inplace=True, axis=1)\n",
    "\n",
    "# expression_data = pd.read_csv(\"../data/Imputed/proteomics_imputed.csv\", index_col=0).T\n",
    "# expression_data = pd.read_csv('aggreagated_ccle_meth.csv', index_col=0)\n",
    "# expression_data = pd.read_csv(\"C:/Users/mmarc/Documents/code/P-Net-Reproducibility-Paper-Fork/Radiosensitivity Prediction/data/Cleveland/cleveland_gene_expression.csv\", index_col=0).T\n",
    "# expression_data = pd.read_csv(\"C:/Users/mmarc/Documents/code/P-Net-Reproducibility-Paper-Fork/Radiosensitivity Prediction/data/Cleveland/CCLE_RNAseq_rsem_genes_tpm_20180929 (1).txt.gz\", sep='\\t', index_col=0)\n",
    "print(f\"Expression data has {expression_data.shape[0]} genes.\")\n",
    "if expression_data.shape[0] < expression_data.shape[1]:\n",
    "    print(\"Transpose data.\")"
   ]
  },
  {
   "cell_type": "code",
   "execution_count": 7,
   "id": "26c3747a",
   "metadata": {},
   "outputs": [
    {
     "name": "stdout",
     "output_type": "stream",
     "text": [
      "Its fine.\n"
     ]
    }
   ],
   "source": [
    "# Filter gene sets to match genes in the expression data (optional)\n",
    "genes_in_data = set(expression_data.index)\n",
    "filtered_gene_sets = {\n",
    "    str(k): [g for g in v if g in genes_in_data]\n",
    "    for k, v in module_to_genes.items()\n",
    "}\n",
    "filtered_gene_sets = {k: v for k, v in filtered_gene_sets.items() if len(v) > 1}\n",
    "\n",
    "if len(filtered_gene_sets) == 0:\n",
    "    print(\"WARNING: no genes mathed. Try transposing data.\")\n",
    "else:\n",
    "    print(\"Its fine.\")"
   ]
  },
  {
   "cell_type": "code",
   "execution_count": 13,
   "id": "699590ec",
   "metadata": {},
   "outputs": [
    {
     "data": {
      "text/plain": [
       "4800"
      ]
     },
     "execution_count": 13,
     "metadata": {},
     "output_type": "execute_result"
    }
   ],
   "source": [
    "len(filtered_gene_sets)"
   ]
  },
  {
   "cell_type": "markdown",
   "id": "68b78a9e",
   "metadata": {},
   "source": [
    "'Most-enriched enrichment' → fold enrichment (you want >100).\n",
    "\n",
    "'Most-enriched p' → statistical significance (you want Bonferroni-corrected p < 0.05).\n",
    "\n",
    "Together, these help you find the 1,269 strongest, most reliable modules."
   ]
  },
  {
   "cell_type": "code",
   "execution_count": null,
   "id": "8f20e08d",
   "metadata": {},
   "outputs": [
    {
     "name": "stdout",
     "output_type": "stream",
     "text": [
      " number of modules: 4970\n",
      "module_to_genes file ahs been saved to file 'module_to_genes_methylation_imputed_all.csv'\n"
     ]
    },
    {
     "ename": "",
     "evalue": "",
     "output_type": "error",
     "traceback": [
      "\u001b[1;31mThe Kernel crashed while executing code in the current cell or a previous cell. \n",
      "\u001b[1;31mPlease review the code in the cell(s) to identify a possible cause of the failure. \n",
      "\u001b[1;31mClick <a href='https://aka.ms/vscodeJupyterKernelCrash'>here</a> for more info. \n",
      "\u001b[1;31mView Jupyter <a href='command:jupyter.viewOutput'>log</a> for further details."
     ]
    }
   ],
   "source": [
    "df_most = df[df[\"Module #\"].isin(filtered_gene_sets.keys())]\n",
    "\n",
    "if number_of_modules == \"most-enriched\":\n",
    "    df_most = df_most[df_most['Most-enriched enrichment'] > 100]\n",
    "    df_most = df_most[df_most['Most-enriched p'] < 0.05]\n",
    "elif number_of_modules == \"all\":\n",
    "    df_most = df_most\n",
    "else:\n",
    "    df_most = df_most[df_most['Most-enriched p'] < 0.05]\n",
    "    df_most = df_most.sort_values(by='Most-enriched enrichment', ascending=False)\n",
    "    df_most = df_most[:number_of_modules]\n",
    "\n",
    "print(f\" number of modules: {df_most.shape[0]}\")\n",
    "\n",
    "chosen_modules = df_most['Module #']\n",
    "\n",
    "gene_sets = {k: filtered_gene_sets[k] for k in chosen_modules}\n",
    "\n",
    "# # Flatten dictionary to two-column format\n",
    "rows = [(module, gene) for module, genes in gene_sets.items() for gene in genes]\n",
    "df_module_to_genes = pd.DataFrame(rows, columns=[\"module\", \"gene\"])\n",
    "\n",
    "# Save to CSV\n",
    "df_module_to_genes.to_csv(f\"module_to_genes/module_to_genes_{data_name}_{str(number_of_modules)}.csv\", index=False)\n",
    "\n",
    "print(f\"module_to_genes file has been saved to file 'module_to_genes_{data_name}_{str(number_of_modules)}.csv'\")"
   ]
  },
  {
   "cell_type": "markdown",
   "id": "b02d08f8",
   "metadata": {},
   "source": [
    "# Now: run the 'calculate_GSVA.R' file \n",
    "GSVA stands for Gene Set Variation Analysis.\n",
    "It’s a method used in biology to turn a group of genes (like a pathway or a module) into a single score that reflects how active that group is in a sample (like a specific cell or tissue)."
   ]
  },
  {
   "cell_type": "markdown",
   "id": "d41c7066",
   "metadata": {},
   "source": [
    "..."
   ]
  },
  {
   "cell_type": "markdown",
   "id": "f254230b",
   "metadata": {},
   "source": [
    "# (optional) postprocess the computed GSVA"
   ]
  },
  {
   "cell_type": "markdown",
   "id": "cac79abc",
   "metadata": {},
   "source": [
    "### Methylation data:"
   ]
  },
  {
   "cell_type": "code",
   "execution_count": null,
   "id": "d64610fd",
   "metadata": {},
   "outputs": [],
   "source": [
    "number_of_modules = \"most-enriched\"\n",
    "data_name = \"rna_imputed\"\n",
    "\n",
    "df = pd.read_csv(f'gsva_scores_{data_name}_{number_of_modules}.csv', index_col=0)\n",
    "\n",
    "df.iloc[:, 1:] = df.iloc[:, 1:].apply(lambda x : pd.to_numeric(x, errors=\"coerce\")).fillna(np.nan)\n",
    "df = df.T\n",
    "df.index = [x.split(\"_\")[0] for x in df.index]\n",
    "df = df.loc[~df.index.duplicated(keep=\"first\")]\n",
    "df.head()"
   ]
  },
  {
   "cell_type": "code",
   "execution_count": null,
   "id": "19a5cd18",
   "metadata": {},
   "outputs": [],
   "source": [
    "df.to_csv('../data/Cleveland/modules_gsva_meth_imputed_full_processed2.csv')"
   ]
  },
  {
   "cell_type": "markdown",
   "id": "274d806e",
   "metadata": {},
   "source": [
    "### RNA seq data:"
   ]
  },
  {
   "cell_type": "code",
   "execution_count": 10,
   "id": "d68840c6",
   "metadata": {},
   "outputs": [
    {
     "data": {
      "text/html": [
       "<div>\n",
       "<style scoped>\n",
       "    .dataframe tbody tr th:only-of-type {\n",
       "        vertical-align: middle;\n",
       "    }\n",
       "\n",
       "    .dataframe tbody tr th {\n",
       "        vertical-align: top;\n",
       "    }\n",
       "\n",
       "    .dataframe thead th {\n",
       "        text-align: right;\n",
       "    }\n",
       "</style>\n",
       "<table border=\"1\" class=\"dataframe\">\n",
       "  <thead>\n",
       "    <tr style=\"text-align: right;\">\n",
       "      <th></th>\n",
       "      <th>8</th>\n",
       "      <th>14</th>\n",
       "      <th>38</th>\n",
       "      <th>39</th>\n",
       "      <th>43</th>\n",
       "      <th>47</th>\n",
       "      <th>48</th>\n",
       "      <th>49</th>\n",
       "      <th>50</th>\n",
       "      <th>51</th>\n",
       "      <th>...</th>\n",
       "      <th>5126</th>\n",
       "      <th>5127</th>\n",
       "      <th>5130</th>\n",
       "      <th>5140</th>\n",
       "      <th>5143</th>\n",
       "      <th>5145</th>\n",
       "      <th>5148</th>\n",
       "      <th>5168</th>\n",
       "      <th>5190</th>\n",
       "      <th>5229</th>\n",
       "    </tr>\n",
       "  </thead>\n",
       "  <tbody>\n",
       "    <tr>\n",
       "      <th>22RV1</th>\n",
       "      <td>0.436903</td>\n",
       "      <td>0.000555</td>\n",
       "      <td>-0.026934</td>\n",
       "      <td>-0.236241</td>\n",
       "      <td>-0.001655</td>\n",
       "      <td>0.041915</td>\n",
       "      <td>0.365020</td>\n",
       "      <td>-0.466141</td>\n",
       "      <td>0.147907</td>\n",
       "      <td>0.236512</td>\n",
       "      <td>...</td>\n",
       "      <td>-0.380139</td>\n",
       "      <td>-0.074167</td>\n",
       "      <td>-0.099280</td>\n",
       "      <td>-0.049004</td>\n",
       "      <td>0.478495</td>\n",
       "      <td>-0.016778</td>\n",
       "      <td>0.445481</td>\n",
       "      <td>0.667144</td>\n",
       "      <td>-0.022923</td>\n",
       "      <td>0.222467</td>\n",
       "    </tr>\n",
       "    <tr>\n",
       "      <th>42MGBA</th>\n",
       "      <td>-0.097515</td>\n",
       "      <td>-0.062043</td>\n",
       "      <td>0.178450</td>\n",
       "      <td>0.251463</td>\n",
       "      <td>-0.020668</td>\n",
       "      <td>-0.024889</td>\n",
       "      <td>-0.158225</td>\n",
       "      <td>0.336751</td>\n",
       "      <td>0.419054</td>\n",
       "      <td>0.355672</td>\n",
       "      <td>...</td>\n",
       "      <td>0.268576</td>\n",
       "      <td>-0.071268</td>\n",
       "      <td>0.252576</td>\n",
       "      <td>-0.055258</td>\n",
       "      <td>0.045041</td>\n",
       "      <td>-0.091967</td>\n",
       "      <td>0.231136</td>\n",
       "      <td>-0.055885</td>\n",
       "      <td>-0.479137</td>\n",
       "      <td>0.586704</td>\n",
       "    </tr>\n",
       "    <tr>\n",
       "      <th>5637</th>\n",
       "      <td>0.477699</td>\n",
       "      <td>-0.024133</td>\n",
       "      <td>-0.138267</td>\n",
       "      <td>0.146309</td>\n",
       "      <td>-0.043991</td>\n",
       "      <td>-0.076821</td>\n",
       "      <td>-0.456752</td>\n",
       "      <td>0.406816</td>\n",
       "      <td>0.288758</td>\n",
       "      <td>-0.044227</td>\n",
       "      <td>...</td>\n",
       "      <td>0.826131</td>\n",
       "      <td>0.830637</td>\n",
       "      <td>0.503483</td>\n",
       "      <td>0.179647</td>\n",
       "      <td>-0.576237</td>\n",
       "      <td>-0.334832</td>\n",
       "      <td>0.187405</td>\n",
       "      <td>-0.200009</td>\n",
       "      <td>0.189729</td>\n",
       "      <td>-0.017562</td>\n",
       "    </tr>\n",
       "    <tr>\n",
       "      <th>647V</th>\n",
       "      <td>0.171252</td>\n",
       "      <td>0.339635</td>\n",
       "      <td>0.305165</td>\n",
       "      <td>0.440819</td>\n",
       "      <td>0.177682</td>\n",
       "      <td>0.268122</td>\n",
       "      <td>0.141566</td>\n",
       "      <td>0.356177</td>\n",
       "      <td>0.167331</td>\n",
       "      <td>-0.055671</td>\n",
       "      <td>...</td>\n",
       "      <td>0.706533</td>\n",
       "      <td>0.650215</td>\n",
       "      <td>0.265021</td>\n",
       "      <td>0.272398</td>\n",
       "      <td>-0.639342</td>\n",
       "      <td>-0.147391</td>\n",
       "      <td>-0.217292</td>\n",
       "      <td>0.506946</td>\n",
       "      <td>-0.287527</td>\n",
       "      <td>-0.317061</td>\n",
       "    </tr>\n",
       "    <tr>\n",
       "      <th>769P</th>\n",
       "      <td>0.336379</td>\n",
       "      <td>0.402448</td>\n",
       "      <td>0.060402</td>\n",
       "      <td>0.446750</td>\n",
       "      <td>0.260591</td>\n",
       "      <td>0.173967</td>\n",
       "      <td>-0.232140</td>\n",
       "      <td>0.377659</td>\n",
       "      <td>0.161707</td>\n",
       "      <td>-0.154431</td>\n",
       "      <td>...</td>\n",
       "      <td>0.661838</td>\n",
       "      <td>0.718206</td>\n",
       "      <td>0.280468</td>\n",
       "      <td>-0.384513</td>\n",
       "      <td>-0.028050</td>\n",
       "      <td>-0.120623</td>\n",
       "      <td>-0.186102</td>\n",
       "      <td>-0.552712</td>\n",
       "      <td>0.082844</td>\n",
       "      <td>-0.036330</td>\n",
       "    </tr>\n",
       "    <tr>\n",
       "      <th>...</th>\n",
       "      <td>...</td>\n",
       "      <td>...</td>\n",
       "      <td>...</td>\n",
       "      <td>...</td>\n",
       "      <td>...</td>\n",
       "      <td>...</td>\n",
       "      <td>...</td>\n",
       "      <td>...</td>\n",
       "      <td>...</td>\n",
       "      <td>...</td>\n",
       "      <td>...</td>\n",
       "      <td>...</td>\n",
       "      <td>...</td>\n",
       "      <td>...</td>\n",
       "      <td>...</td>\n",
       "      <td>...</td>\n",
       "      <td>...</td>\n",
       "      <td>...</td>\n",
       "      <td>...</td>\n",
       "      <td>...</td>\n",
       "      <td>...</td>\n",
       "    </tr>\n",
       "    <tr>\n",
       "      <th>YD8</th>\n",
       "      <td>-0.483967</td>\n",
       "      <td>0.288934</td>\n",
       "      <td>0.001948</td>\n",
       "      <td>0.394939</td>\n",
       "      <td>0.362212</td>\n",
       "      <td>0.318332</td>\n",
       "      <td>0.177699</td>\n",
       "      <td>0.668636</td>\n",
       "      <td>-0.371708</td>\n",
       "      <td>-0.522793</td>\n",
       "      <td>...</td>\n",
       "      <td>0.153489</td>\n",
       "      <td>0.046488</td>\n",
       "      <td>-0.042233</td>\n",
       "      <td>0.073169</td>\n",
       "      <td>-0.415541</td>\n",
       "      <td>0.481167</td>\n",
       "      <td>0.356197</td>\n",
       "      <td>-0.316274</td>\n",
       "      <td>0.419842</td>\n",
       "      <td>0.021585</td>\n",
       "    </tr>\n",
       "    <tr>\n",
       "      <th>YH13</th>\n",
       "      <td>-0.326772</td>\n",
       "      <td>0.074079</td>\n",
       "      <td>0.164898</td>\n",
       "      <td>0.041260</td>\n",
       "      <td>0.207960</td>\n",
       "      <td>0.037269</td>\n",
       "      <td>-0.182792</td>\n",
       "      <td>0.370366</td>\n",
       "      <td>-0.053202</td>\n",
       "      <td>-0.041202</td>\n",
       "      <td>...</td>\n",
       "      <td>-0.239143</td>\n",
       "      <td>-0.206505</td>\n",
       "      <td>0.114032</td>\n",
       "      <td>-0.237639</td>\n",
       "      <td>0.167308</td>\n",
       "      <td>-0.008762</td>\n",
       "      <td>0.493482</td>\n",
       "      <td>0.676151</td>\n",
       "      <td>-0.129363</td>\n",
       "      <td>0.479305</td>\n",
       "    </tr>\n",
       "    <tr>\n",
       "      <th>YKG1</th>\n",
       "      <td>-0.312181</td>\n",
       "      <td>0.216063</td>\n",
       "      <td>0.214252</td>\n",
       "      <td>-0.218352</td>\n",
       "      <td>0.227827</td>\n",
       "      <td>0.046648</td>\n",
       "      <td>0.127099</td>\n",
       "      <td>0.081832</td>\n",
       "      <td>-0.188130</td>\n",
       "      <td>-0.364585</td>\n",
       "      <td>...</td>\n",
       "      <td>0.339886</td>\n",
       "      <td>0.601853</td>\n",
       "      <td>-0.557499</td>\n",
       "      <td>0.014484</td>\n",
       "      <td>-0.467137</td>\n",
       "      <td>0.433590</td>\n",
       "      <td>-0.026872</td>\n",
       "      <td>0.652544</td>\n",
       "      <td>0.175716</td>\n",
       "      <td>-0.016452</td>\n",
       "    </tr>\n",
       "    <tr>\n",
       "      <th>ZR751</th>\n",
       "      <td>-0.521838</td>\n",
       "      <td>0.018009</td>\n",
       "      <td>-0.117763</td>\n",
       "      <td>0.102080</td>\n",
       "      <td>0.062596</td>\n",
       "      <td>0.058556</td>\n",
       "      <td>0.092437</td>\n",
       "      <td>-0.414914</td>\n",
       "      <td>-0.162324</td>\n",
       "      <td>0.193928</td>\n",
       "      <td>...</td>\n",
       "      <td>-0.684734</td>\n",
       "      <td>-0.625831</td>\n",
       "      <td>-0.347253</td>\n",
       "      <td>-0.593862</td>\n",
       "      <td>0.488493</td>\n",
       "      <td>0.649129</td>\n",
       "      <td>-0.383704</td>\n",
       "      <td>0.689982</td>\n",
       "      <td>0.135850</td>\n",
       "      <td>-0.166684</td>\n",
       "    </tr>\n",
       "    <tr>\n",
       "      <th>ZR7530</th>\n",
       "      <td>-0.480058</td>\n",
       "      <td>0.281262</td>\n",
       "      <td>0.063485</td>\n",
       "      <td>0.059257</td>\n",
       "      <td>0.369378</td>\n",
       "      <td>0.258707</td>\n",
       "      <td>0.422712</td>\n",
       "      <td>0.055962</td>\n",
       "      <td>-0.321554</td>\n",
       "      <td>0.261714</td>\n",
       "      <td>...</td>\n",
       "      <td>-0.535621</td>\n",
       "      <td>-0.483431</td>\n",
       "      <td>0.453353</td>\n",
       "      <td>-0.563440</td>\n",
       "      <td>0.141912</td>\n",
       "      <td>0.673246</td>\n",
       "      <td>0.514229</td>\n",
       "      <td>0.425837</td>\n",
       "      <td>-0.359026</td>\n",
       "      <td>-0.031235</td>\n",
       "    </tr>\n",
       "  </tbody>\n",
       "</table>\n",
       "<p>498 rows × 1227 columns</p>\n",
       "</div>"
      ],
      "text/plain": [
       "               8        14        38        39        43        47        48  \\\n",
       "22RV1   0.436903  0.000555 -0.026934 -0.236241 -0.001655  0.041915  0.365020   \n",
       "42MGBA -0.097515 -0.062043  0.178450  0.251463 -0.020668 -0.024889 -0.158225   \n",
       "5637    0.477699 -0.024133 -0.138267  0.146309 -0.043991 -0.076821 -0.456752   \n",
       "647V    0.171252  0.339635  0.305165  0.440819  0.177682  0.268122  0.141566   \n",
       "769P    0.336379  0.402448  0.060402  0.446750  0.260591  0.173967 -0.232140   \n",
       "...          ...       ...       ...       ...       ...       ...       ...   \n",
       "YD8    -0.483967  0.288934  0.001948  0.394939  0.362212  0.318332  0.177699   \n",
       "YH13   -0.326772  0.074079  0.164898  0.041260  0.207960  0.037269 -0.182792   \n",
       "YKG1   -0.312181  0.216063  0.214252 -0.218352  0.227827  0.046648  0.127099   \n",
       "ZR751  -0.521838  0.018009 -0.117763  0.102080  0.062596  0.058556  0.092437   \n",
       "ZR7530 -0.480058  0.281262  0.063485  0.059257  0.369378  0.258707  0.422712   \n",
       "\n",
       "              49        50        51  ...      5126      5127      5130  \\\n",
       "22RV1  -0.466141  0.147907  0.236512  ... -0.380139 -0.074167 -0.099280   \n",
       "42MGBA  0.336751  0.419054  0.355672  ...  0.268576 -0.071268  0.252576   \n",
       "5637    0.406816  0.288758 -0.044227  ...  0.826131  0.830637  0.503483   \n",
       "647V    0.356177  0.167331 -0.055671  ...  0.706533  0.650215  0.265021   \n",
       "769P    0.377659  0.161707 -0.154431  ...  0.661838  0.718206  0.280468   \n",
       "...          ...       ...       ...  ...       ...       ...       ...   \n",
       "YD8     0.668636 -0.371708 -0.522793  ...  0.153489  0.046488 -0.042233   \n",
       "YH13    0.370366 -0.053202 -0.041202  ... -0.239143 -0.206505  0.114032   \n",
       "YKG1    0.081832 -0.188130 -0.364585  ...  0.339886  0.601853 -0.557499   \n",
       "ZR751  -0.414914 -0.162324  0.193928  ... -0.684734 -0.625831 -0.347253   \n",
       "ZR7530  0.055962 -0.321554  0.261714  ... -0.535621 -0.483431  0.453353   \n",
       "\n",
       "            5140      5143      5145      5148      5168      5190      5229  \n",
       "22RV1  -0.049004  0.478495 -0.016778  0.445481  0.667144 -0.022923  0.222467  \n",
       "42MGBA -0.055258  0.045041 -0.091967  0.231136 -0.055885 -0.479137  0.586704  \n",
       "5637    0.179647 -0.576237 -0.334832  0.187405 -0.200009  0.189729 -0.017562  \n",
       "647V    0.272398 -0.639342 -0.147391 -0.217292  0.506946 -0.287527 -0.317061  \n",
       "769P   -0.384513 -0.028050 -0.120623 -0.186102 -0.552712  0.082844 -0.036330  \n",
       "...          ...       ...       ...       ...       ...       ...       ...  \n",
       "YD8     0.073169 -0.415541  0.481167  0.356197 -0.316274  0.419842  0.021585  \n",
       "YH13   -0.237639  0.167308 -0.008762  0.493482  0.676151 -0.129363  0.479305  \n",
       "YKG1    0.014484 -0.467137  0.433590 -0.026872  0.652544  0.175716 -0.016452  \n",
       "ZR751  -0.593862  0.488493  0.649129 -0.383704  0.689982  0.135850 -0.166684  \n",
       "ZR7530 -0.563440  0.141912  0.673246  0.514229  0.425837 -0.359026 -0.031235  \n",
       "\n",
       "[498 rows x 1227 columns]"
      ]
     },
     "execution_count": 10,
     "metadata": {},
     "output_type": "execute_result"
    }
   ],
   "source": [
    "gsva = pd.read_csv(f'gsva_scores/gsva_scores_{data_name}_{number_of_modules}.csv', index_col=0)\n",
    "# gsva = gsva.T\n",
    "# gsva.to_csv('../data/Mice/modules_gsva_meth_mice.csv')\n",
    "gsva"
   ]
  }
 ],
 "metadata": {
  "kernelspec": {
   "display_name": "pnet-repro",
   "language": "python",
   "name": "python3"
  },
  "language_info": {
   "codemirror_mode": {
    "name": "ipython",
    "version": 3
   },
   "file_extension": ".py",
   "mimetype": "text/x-python",
   "name": "python",
   "nbconvert_exporter": "python",
   "pygments_lexer": "ipython3",
   "version": "3.9.16"
  }
 },
 "nbformat": 4,
 "nbformat_minor": 5
}
