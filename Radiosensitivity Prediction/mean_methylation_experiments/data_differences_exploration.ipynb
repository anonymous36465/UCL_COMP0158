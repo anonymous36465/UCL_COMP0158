{
 "cells": [
  {
   "cell_type": "code",
   "execution_count": 2,
   "id": "fe1a51c2",
   "metadata": {},
   "outputs": [],
   "source": [
    "import pandas as pd"
   ]
  },
  {
   "cell_type": "code",
   "execution_count": 3,
   "id": "8d1e252c",
   "metadata": {},
   "outputs": [],
   "source": [
    "mice = pd.read_csv(\"data_methylation_hm450.txt\", sep='\\t')"
   ]
  },
  {
   "cell_type": "code",
   "execution_count": 4,
   "id": "2ff7a970",
   "metadata": {},
   "outputs": [],
   "source": [
    "mean = pd.read_csv('GSE240704_Matrix_normalized.txt.gz', compression='gzip',  sep='\\t')"
   ]
  },
  {
   "cell_type": "code",
   "execution_count": 5,
   "id": "33b913fb",
   "metadata": {},
   "outputs": [],
   "source": [
    "clev = pd.read_csv('..\\data\\Cleveland\\CCLE_Methylation_TSS1kb_20181022.csv')"
   ]
  },
  {
   "cell_type": "code",
   "execution_count": 7,
   "id": "fe6878f8",
   "metadata": {},
   "outputs": [
    {
     "data": {
      "text/plain": [
       "25883"
      ]
     },
     "execution_count": 7,
     "metadata": {},
     "output_type": "execute_result"
    }
   ],
   "source": [
    "mice_meth = mice['Hugo_Symbol'].values\n",
    "len(mice_meth)"
   ]
  },
  {
   "cell_type": "code",
   "execution_count": 7,
   "id": "1704fa05",
   "metadata": {},
   "outputs": [
    {
     "data": {
      "text/plain": [
       "array(['BRAT1', 'MAN1B1', 'GBE1', ..., 'DOCK11', 'PASD1', 'EIF2S3'],\n",
       "      dtype=object)"
      ]
     },
     "execution_count": 7,
     "metadata": {},
     "output_type": "execute_result"
    }
   ],
   "source": [
    "mice_meth"
   ]
  },
  {
   "cell_type": "code",
   "execution_count": 9,
   "id": "7f118979",
   "metadata": {},
   "outputs": [
    {
     "name": "stdout",
     "output_type": "stream",
     "text": [
      "17181\n"
     ]
    }
   ],
   "source": [
    "clev_meth = clev.columns\n",
    "print(len(clev_meth))"
   ]
  },
  {
   "cell_type": "code",
   "execution_count": 6,
   "id": "4ba9400f",
   "metadata": {},
   "outputs": [
    {
     "data": {
      "text/plain": [
       "20248"
      ]
     },
     "execution_count": 6,
     "metadata": {},
     "output_type": "execute_result"
    }
   ],
   "source": [
    "mean_meth = pd.read_csv('all_genes_from_beta_data.txt')\n",
    "len(mean_meth)"
   ]
  },
  {
   "cell_type": "code",
   "execution_count": 12,
   "id": "efb2ca92",
   "metadata": {},
   "outputs": [
    {
     "data": {
      "text/plain": [
       "19584"
      ]
     },
     "execution_count": 12,
     "metadata": {},
     "output_type": "execute_result"
    }
   ],
   "source": [
    "a = [c for c in mean_meth.values if c in mice_meth]\n",
    "len(a)"
   ]
  },
  {
   "cell_type": "code",
   "execution_count": 13,
   "id": "22aae558",
   "metadata": {},
   "outputs": [
    {
     "data": {
      "text/plain": [
       "19589"
      ]
     },
     "execution_count": 13,
     "metadata": {},
     "output_type": "execute_result"
    }
   ],
   "source": [
    "a = [c for c in mice_meth if c in mean_meth.values]\n",
    "len(a)"
   ]
  },
  {
   "cell_type": "code",
   "execution_count": 8,
   "id": "85efa99b",
   "metadata": {},
   "outputs": [
    {
     "data": {
      "text/plain": [
       "array(['A1BG', 'A1BG-AS1', 'A2M-AS1', ..., 'ZYX', 'ZZEF1', 'ZZZ3'],\n",
       "      dtype=object)"
      ]
     },
     "execution_count": 8,
     "metadata": {},
     "output_type": "execute_result"
    }
   ],
   "source": [
    "a_meth = pd.read_csv(\"aggreagated_ccle_meth.csv\")[\"Gene\"]\n",
    "a_meth.values"
   ]
  },
  {
   "cell_type": "code",
   "execution_count": 31,
   "id": "4feb2e59",
   "metadata": {},
   "outputs": [
    {
     "name": "stdout",
     "output_type": "stream",
     "text": [
      "CCLE original meth has 12331 values in common with mean_meth paper\n"
     ]
    }
   ],
   "source": [
    "a = [c for c in clev_meth.values if c in mean_meth.values]\n",
    "print(f\"CCLE original meth has {len(a)} values in common with mean_meth paper\")"
   ]
  },
  {
   "cell_type": "code",
   "execution_count": 32,
   "id": "d67a0440",
   "metadata": {},
   "outputs": [
    {
     "name": "stdout",
     "output_type": "stream",
     "text": [
      "CCLE expanded has 15010 values in common with mean_meth paper. It has in total 22516 genes\n"
     ]
    }
   ],
   "source": [
    "a = [c for c in a_meth.values if c in mean_meth.values]\n",
    "print(f\"CCLE expanded has {len(a)} values in common with mean_meth paper. It has in total {len(a_meth.values)} genes\")"
   ]
  },
  {
   "cell_type": "code",
   "execution_count": 54,
   "id": "340ed54f",
   "metadata": {},
   "outputs": [
    {
     "data": {
      "text/plain": [
       "17181"
      ]
     },
     "execution_count": 54,
     "metadata": {},
     "output_type": "execute_result"
    }
   ],
   "source": [
    "len(clev_meth.values)"
   ]
  },
  {
   "cell_type": "code",
   "execution_count": null,
   "id": "608867c9",
   "metadata": {},
   "outputs": [],
   "source": []
  },
  {
   "cell_type": "markdown",
   "id": "217204c6",
   "metadata": {},
   "source": [
    "Are the CCLE and mice the beta values?"
   ]
  },
  {
   "cell_type": "code",
   "execution_count": 42,
   "id": "14339649",
   "metadata": {},
   "outputs": [],
   "source": [
    "agg_ccle = pd.read_csv(\"aggreagated_ccle_meth.csv\")"
   ]
  },
  {
   "cell_type": "code",
   "execution_count": 49,
   "id": "0cdd5ea4",
   "metadata": {},
   "outputs": [
    {
     "name": "stdout",
     "output_type": "stream",
     "text": [
      "Mice: min 0.0, max 0.997592395359009, mean 0.36306362028928496 median 0.278588220872515\n",
      "Mean: min 0.0, max 0.997917397789612, mean 0.47513335637632376 median 0.531596991064123\n",
      "CCLE: min 0.0, max 1.0, mean 0.20957992946184067 median 0.01720375\n",
      "CCLE_ext: min 0.0, max 1.0, mean 0.36142215199995315 median 0.33828375\n"
     ]
    }
   ],
   "source": [
    "# mice_x = mice.set_index('Hugo_Symbol')\n",
    "# mice_x = mice.drop('Entrez_Gene_Id', axis=1)\n",
    "\n",
    "mean_columns = [col for col in mean.columns if col[:6] == \"SAMPLE\"]\n",
    "mean_x = mean[mean_columns]\n",
    "\n",
    "clev_x = clev.set_index(\"Unnamed: 0\")\n",
    "\n",
    "agg_ccle_x = agg_ccle.set_index(\"Gene\")\n",
    "\n",
    "def is_beta(name, data):\n",
    "    print(f\"{name}: min {data.min().min()}, max {data.max().max()}, mean {data.mean().mean()} median {data.median().median()}\")\n",
    "\n",
    "is_beta(\"Mice\", mice)\n",
    "is_beta(\"Mean\", mean_x)\n",
    "is_beta(\"CCLE\", clev_x)\n",
    "is_beta(\"CCLE_ext\", agg_ccle_x)"
   ]
  },
  {
   "cell_type": "code",
   "execution_count": null,
   "id": "0758550b",
   "metadata": {},
   "outputs": [],
   "source": [
    "mean_columns = mean.columns\n",
    "mean_columns = [col for col in mean_columns if col[:6] == \"SAMPLE\"]\n"
   ]
  },
  {
   "cell_type": "code",
   "execution_count": 50,
   "id": "77ae0f69",
   "metadata": {},
   "outputs": [
    {
     "data": {
      "text/html": [
       "<div>\n",
       "<style scoped>\n",
       "    .dataframe tbody tr th:only-of-type {\n",
       "        vertical-align: middle;\n",
       "    }\n",
       "\n",
       "    .dataframe tbody tr th {\n",
       "        vertical-align: top;\n",
       "    }\n",
       "\n",
       "    .dataframe thead th {\n",
       "        text-align: right;\n",
       "    }\n",
       "</style>\n",
       "<table border=\"1\" class=\"dataframe\">\n",
       "  <thead>\n",
       "    <tr style=\"text-align: right;\">\n",
       "      <th></th>\n",
       "      <th>Mayo-PDX-Sarkaria-167</th>\n",
       "      <th>Mayo-PDX-Sarkaria-159</th>\n",
       "      <th>Mayo-PDX-Sarkaria-9</th>\n",
       "      <th>Mayo-PDX-Sarkaria-168</th>\n",
       "      <th>Mayo-PDX-Sarkaria-114</th>\n",
       "      <th>Mayo-PDX-Sarkaria-61</th>\n",
       "      <th>Mayo-PDX-Sarkaria-182</th>\n",
       "      <th>Mayo-PDX-Sarkaria-170</th>\n",
       "      <th>Mayo-PDX-Sarkaria-8</th>\n",
       "      <th>Mayo-PDX-Sarkaria-122</th>\n",
       "      <th>...</th>\n",
       "      <th>Mayo-PDX-Sarkaria-43</th>\n",
       "      <th>Mayo-PDX-Sarkaria-44</th>\n",
       "      <th>Mayo-PDX-Sarkaria-56</th>\n",
       "      <th>Mayo-PDX-Sarkaria-6</th>\n",
       "      <th>Mayo-PDX-Sarkaria-64</th>\n",
       "      <th>Mayo-PDX-Sarkaria-66</th>\n",
       "      <th>Mayo-PDX-Sarkaria-67</th>\n",
       "      <th>Mayo-PDX-Sarkaria-69</th>\n",
       "      <th>Mayo-PDX-Sarkaria-85</th>\n",
       "      <th>Mayo-PDX-Sarkaria-91</th>\n",
       "    </tr>\n",
       "    <tr>\n",
       "      <th>Hugo_Symbol</th>\n",
       "      <th></th>\n",
       "      <th></th>\n",
       "      <th></th>\n",
       "      <th></th>\n",
       "      <th></th>\n",
       "      <th></th>\n",
       "      <th></th>\n",
       "      <th></th>\n",
       "      <th></th>\n",
       "      <th></th>\n",
       "      <th></th>\n",
       "      <th></th>\n",
       "      <th></th>\n",
       "      <th></th>\n",
       "      <th></th>\n",
       "      <th></th>\n",
       "      <th></th>\n",
       "      <th></th>\n",
       "      <th></th>\n",
       "      <th></th>\n",
       "      <th></th>\n",
       "    </tr>\n",
       "  </thead>\n",
       "  <tbody>\n",
       "    <tr>\n",
       "      <th>BRAT1</th>\n",
       "      <td>0.853678</td>\n",
       "      <td>0.671721</td>\n",
       "      <td>0.422548</td>\n",
       "      <td>0.815492</td>\n",
       "      <td>0.848128</td>\n",
       "      <td>0.550961</td>\n",
       "      <td>0.766068</td>\n",
       "      <td>0.439902</td>\n",
       "      <td>0.800645</td>\n",
       "      <td>0.836853</td>\n",
       "      <td>...</td>\n",
       "      <td>0.175899</td>\n",
       "      <td>0.800141</td>\n",
       "      <td>0.628108</td>\n",
       "      <td>0.827451</td>\n",
       "      <td>0.821393</td>\n",
       "      <td>0.857614</td>\n",
       "      <td>0.757052</td>\n",
       "      <td>0.826739</td>\n",
       "      <td>0.848498</td>\n",
       "      <td>0.291064</td>\n",
       "    </tr>\n",
       "    <tr>\n",
       "      <th>MAN1B1</th>\n",
       "      <td>0.713272</td>\n",
       "      <td>0.846278</td>\n",
       "      <td>0.766221</td>\n",
       "      <td>0.871540</td>\n",
       "      <td>0.707992</td>\n",
       "      <td>0.675131</td>\n",
       "      <td>0.838506</td>\n",
       "      <td>0.847752</td>\n",
       "      <td>0.797533</td>\n",
       "      <td>0.782126</td>\n",
       "      <td>...</td>\n",
       "      <td>0.629355</td>\n",
       "      <td>0.651117</td>\n",
       "      <td>0.772536</td>\n",
       "      <td>0.786384</td>\n",
       "      <td>0.852410</td>\n",
       "      <td>0.826622</td>\n",
       "      <td>0.822181</td>\n",
       "      <td>0.725353</td>\n",
       "      <td>0.796867</td>\n",
       "      <td>0.678068</td>\n",
       "    </tr>\n",
       "    <tr>\n",
       "      <th>GBE1</th>\n",
       "      <td>0.285983</td>\n",
       "      <td>0.284535</td>\n",
       "      <td>0.282522</td>\n",
       "      <td>0.237509</td>\n",
       "      <td>0.378794</td>\n",
       "      <td>0.250298</td>\n",
       "      <td>0.268556</td>\n",
       "      <td>0.228314</td>\n",
       "      <td>0.260457</td>\n",
       "      <td>0.262373</td>\n",
       "      <td>...</td>\n",
       "      <td>0.295463</td>\n",
       "      <td>0.187003</td>\n",
       "      <td>0.271938</td>\n",
       "      <td>0.276940</td>\n",
       "      <td>0.460299</td>\n",
       "      <td>0.311387</td>\n",
       "      <td>0.289102</td>\n",
       "      <td>0.282737</td>\n",
       "      <td>0.296432</td>\n",
       "      <td>0.403204</td>\n",
       "    </tr>\n",
       "    <tr>\n",
       "      <th>LOC283050</th>\n",
       "      <td>0.114177</td>\n",
       "      <td>0.084241</td>\n",
       "      <td>0.037556</td>\n",
       "      <td>0.031451</td>\n",
       "      <td>0.039532</td>\n",
       "      <td>0.033215</td>\n",
       "      <td>0.031714</td>\n",
       "      <td>0.018553</td>\n",
       "      <td>0.031544</td>\n",
       "      <td>0.017168</td>\n",
       "      <td>...</td>\n",
       "      <td>0.340190</td>\n",
       "      <td>0.046507</td>\n",
       "      <td>0.036495</td>\n",
       "      <td>0.048216</td>\n",
       "      <td>0.023656</td>\n",
       "      <td>0.033189</td>\n",
       "      <td>0.034726</td>\n",
       "      <td>0.081695</td>\n",
       "      <td>0.024967</td>\n",
       "      <td>0.078415</td>\n",
       "    </tr>\n",
       "    <tr>\n",
       "      <th>PINK1</th>\n",
       "      <td>0.017230</td>\n",
       "      <td>0.031675</td>\n",
       "      <td>0.027787</td>\n",
       "      <td>0.023257</td>\n",
       "      <td>0.063177</td>\n",
       "      <td>0.026458</td>\n",
       "      <td>0.021186</td>\n",
       "      <td>0.024719</td>\n",
       "      <td>0.032586</td>\n",
       "      <td>0.026414</td>\n",
       "      <td>...</td>\n",
       "      <td>0.258148</td>\n",
       "      <td>0.056419</td>\n",
       "      <td>0.035809</td>\n",
       "      <td>0.052586</td>\n",
       "      <td>0.039329</td>\n",
       "      <td>0.033387</td>\n",
       "      <td>0.028472</td>\n",
       "      <td>0.046274</td>\n",
       "      <td>0.026302</td>\n",
       "      <td>0.331467</td>\n",
       "    </tr>\n",
       "    <tr>\n",
       "      <th>...</th>\n",
       "      <td>...</td>\n",
       "      <td>...</td>\n",
       "      <td>...</td>\n",
       "      <td>...</td>\n",
       "      <td>...</td>\n",
       "      <td>...</td>\n",
       "      <td>...</td>\n",
       "      <td>...</td>\n",
       "      <td>...</td>\n",
       "      <td>...</td>\n",
       "      <td>...</td>\n",
       "      <td>...</td>\n",
       "      <td>...</td>\n",
       "      <td>...</td>\n",
       "      <td>...</td>\n",
       "      <td>...</td>\n",
       "      <td>...</td>\n",
       "      <td>...</td>\n",
       "      <td>...</td>\n",
       "      <td>...</td>\n",
       "      <td>...</td>\n",
       "    </tr>\n",
       "    <tr>\n",
       "      <th>PMPCA</th>\n",
       "      <td>0.089719</td>\n",
       "      <td>0.226797</td>\n",
       "      <td>0.171147</td>\n",
       "      <td>0.199747</td>\n",
       "      <td>0.267739</td>\n",
       "      <td>0.191046</td>\n",
       "      <td>0.171641</td>\n",
       "      <td>0.140792</td>\n",
       "      <td>0.194583</td>\n",
       "      <td>0.155940</td>\n",
       "      <td>...</td>\n",
       "      <td>0.033201</td>\n",
       "      <td>0.057555</td>\n",
       "      <td>0.119498</td>\n",
       "      <td>0.207417</td>\n",
       "      <td>0.096903</td>\n",
       "      <td>0.162093</td>\n",
       "      <td>0.113206</td>\n",
       "      <td>0.136420</td>\n",
       "      <td>0.159153</td>\n",
       "      <td>0.316044</td>\n",
       "    </tr>\n",
       "    <tr>\n",
       "      <th>GNA14</th>\n",
       "      <td>0.209706</td>\n",
       "      <td>0.499411</td>\n",
       "      <td>0.246947</td>\n",
       "      <td>0.232724</td>\n",
       "      <td>0.207846</td>\n",
       "      <td>0.214973</td>\n",
       "      <td>0.235426</td>\n",
       "      <td>0.210566</td>\n",
       "      <td>0.198927</td>\n",
       "      <td>0.234783</td>\n",
       "      <td>...</td>\n",
       "      <td>0.316972</td>\n",
       "      <td>0.143835</td>\n",
       "      <td>0.229783</td>\n",
       "      <td>0.149070</td>\n",
       "      <td>0.043969</td>\n",
       "      <td>0.091796</td>\n",
       "      <td>0.217424</td>\n",
       "      <td>0.242872</td>\n",
       "      <td>0.240431</td>\n",
       "      <td>0.228265</td>\n",
       "    </tr>\n",
       "    <tr>\n",
       "      <th>DOCK11</th>\n",
       "      <td>0.216767</td>\n",
       "      <td>0.227676</td>\n",
       "      <td>0.260010</td>\n",
       "      <td>0.237469</td>\n",
       "      <td>0.142897</td>\n",
       "      <td>0.185642</td>\n",
       "      <td>0.261868</td>\n",
       "      <td>0.199793</td>\n",
       "      <td>0.139218</td>\n",
       "      <td>0.141856</td>\n",
       "      <td>...</td>\n",
       "      <td>0.273392</td>\n",
       "      <td>0.080256</td>\n",
       "      <td>0.187391</td>\n",
       "      <td>0.207360</td>\n",
       "      <td>0.096599</td>\n",
       "      <td>0.261045</td>\n",
       "      <td>0.182353</td>\n",
       "      <td>0.181397</td>\n",
       "      <td>0.183717</td>\n",
       "      <td>0.046517</td>\n",
       "    </tr>\n",
       "    <tr>\n",
       "      <th>PASD1</th>\n",
       "      <td>0.120306</td>\n",
       "      <td>0.248902</td>\n",
       "      <td>0.245548</td>\n",
       "      <td>0.188287</td>\n",
       "      <td>0.094715</td>\n",
       "      <td>0.042975</td>\n",
       "      <td>0.259176</td>\n",
       "      <td>0.212513</td>\n",
       "      <td>0.123749</td>\n",
       "      <td>0.096619</td>\n",
       "      <td>...</td>\n",
       "      <td>0.171654</td>\n",
       "      <td>0.099369</td>\n",
       "      <td>0.193414</td>\n",
       "      <td>0.193888</td>\n",
       "      <td>0.085774</td>\n",
       "      <td>0.240880</td>\n",
       "      <td>0.221807</td>\n",
       "      <td>0.194359</td>\n",
       "      <td>0.129420</td>\n",
       "      <td>0.044758</td>\n",
       "    </tr>\n",
       "    <tr>\n",
       "      <th>EIF2S3</th>\n",
       "      <td>0.225810</td>\n",
       "      <td>0.307187</td>\n",
       "      <td>0.248175</td>\n",
       "      <td>0.224364</td>\n",
       "      <td>0.261494</td>\n",
       "      <td>0.186994</td>\n",
       "      <td>0.227869</td>\n",
       "      <td>0.222522</td>\n",
       "      <td>0.204572</td>\n",
       "      <td>0.234777</td>\n",
       "      <td>...</td>\n",
       "      <td>0.281789</td>\n",
       "      <td>0.127266</td>\n",
       "      <td>0.246685</td>\n",
       "      <td>0.251651</td>\n",
       "      <td>0.172923</td>\n",
       "      <td>0.233825</td>\n",
       "      <td>0.254444</td>\n",
       "      <td>0.299142</td>\n",
       "      <td>0.173464</td>\n",
       "      <td>0.333044</td>\n",
       "    </tr>\n",
       "  </tbody>\n",
       "</table>\n",
       "<p>25883 rows × 73 columns</p>\n",
       "</div>"
      ],
      "text/plain": [
       "             Mayo-PDX-Sarkaria-167  Mayo-PDX-Sarkaria-159  \\\n",
       "Hugo_Symbol                                                 \n",
       "BRAT1                     0.853678               0.671721   \n",
       "MAN1B1                    0.713272               0.846278   \n",
       "GBE1                      0.285983               0.284535   \n",
       "LOC283050                 0.114177               0.084241   \n",
       "PINK1                     0.017230               0.031675   \n",
       "...                            ...                    ...   \n",
       "PMPCA                     0.089719               0.226797   \n",
       "GNA14                     0.209706               0.499411   \n",
       "DOCK11                    0.216767               0.227676   \n",
       "PASD1                     0.120306               0.248902   \n",
       "EIF2S3                    0.225810               0.307187   \n",
       "\n",
       "             Mayo-PDX-Sarkaria-9  Mayo-PDX-Sarkaria-168  \\\n",
       "Hugo_Symbol                                               \n",
       "BRAT1                   0.422548               0.815492   \n",
       "MAN1B1                  0.766221               0.871540   \n",
       "GBE1                    0.282522               0.237509   \n",
       "LOC283050               0.037556               0.031451   \n",
       "PINK1                   0.027787               0.023257   \n",
       "...                          ...                    ...   \n",
       "PMPCA                   0.171147               0.199747   \n",
       "GNA14                   0.246947               0.232724   \n",
       "DOCK11                  0.260010               0.237469   \n",
       "PASD1                   0.245548               0.188287   \n",
       "EIF2S3                  0.248175               0.224364   \n",
       "\n",
       "             Mayo-PDX-Sarkaria-114  Mayo-PDX-Sarkaria-61  \\\n",
       "Hugo_Symbol                                                \n",
       "BRAT1                     0.848128              0.550961   \n",
       "MAN1B1                    0.707992              0.675131   \n",
       "GBE1                      0.378794              0.250298   \n",
       "LOC283050                 0.039532              0.033215   \n",
       "PINK1                     0.063177              0.026458   \n",
       "...                            ...                   ...   \n",
       "PMPCA                     0.267739              0.191046   \n",
       "GNA14                     0.207846              0.214973   \n",
       "DOCK11                    0.142897              0.185642   \n",
       "PASD1                     0.094715              0.042975   \n",
       "EIF2S3                    0.261494              0.186994   \n",
       "\n",
       "             Mayo-PDX-Sarkaria-182  Mayo-PDX-Sarkaria-170  \\\n",
       "Hugo_Symbol                                                 \n",
       "BRAT1                     0.766068               0.439902   \n",
       "MAN1B1                    0.838506               0.847752   \n",
       "GBE1                      0.268556               0.228314   \n",
       "LOC283050                 0.031714               0.018553   \n",
       "PINK1                     0.021186               0.024719   \n",
       "...                            ...                    ...   \n",
       "PMPCA                     0.171641               0.140792   \n",
       "GNA14                     0.235426               0.210566   \n",
       "DOCK11                    0.261868               0.199793   \n",
       "PASD1                     0.259176               0.212513   \n",
       "EIF2S3                    0.227869               0.222522   \n",
       "\n",
       "             Mayo-PDX-Sarkaria-8  Mayo-PDX-Sarkaria-122  ...  \\\n",
       "Hugo_Symbol                                              ...   \n",
       "BRAT1                   0.800645               0.836853  ...   \n",
       "MAN1B1                  0.797533               0.782126  ...   \n",
       "GBE1                    0.260457               0.262373  ...   \n",
       "LOC283050               0.031544               0.017168  ...   \n",
       "PINK1                   0.032586               0.026414  ...   \n",
       "...                          ...                    ...  ...   \n",
       "PMPCA                   0.194583               0.155940  ...   \n",
       "GNA14                   0.198927               0.234783  ...   \n",
       "DOCK11                  0.139218               0.141856  ...   \n",
       "PASD1                   0.123749               0.096619  ...   \n",
       "EIF2S3                  0.204572               0.234777  ...   \n",
       "\n",
       "             Mayo-PDX-Sarkaria-43  Mayo-PDX-Sarkaria-44  Mayo-PDX-Sarkaria-56  \\\n",
       "Hugo_Symbol                                                                     \n",
       "BRAT1                    0.175899              0.800141              0.628108   \n",
       "MAN1B1                   0.629355              0.651117              0.772536   \n",
       "GBE1                     0.295463              0.187003              0.271938   \n",
       "LOC283050                0.340190              0.046507              0.036495   \n",
       "PINK1                    0.258148              0.056419              0.035809   \n",
       "...                           ...                   ...                   ...   \n",
       "PMPCA                    0.033201              0.057555              0.119498   \n",
       "GNA14                    0.316972              0.143835              0.229783   \n",
       "DOCK11                   0.273392              0.080256              0.187391   \n",
       "PASD1                    0.171654              0.099369              0.193414   \n",
       "EIF2S3                   0.281789              0.127266              0.246685   \n",
       "\n",
       "             Mayo-PDX-Sarkaria-6  Mayo-PDX-Sarkaria-64  Mayo-PDX-Sarkaria-66  \\\n",
       "Hugo_Symbol                                                                    \n",
       "BRAT1                   0.827451              0.821393              0.857614   \n",
       "MAN1B1                  0.786384              0.852410              0.826622   \n",
       "GBE1                    0.276940              0.460299              0.311387   \n",
       "LOC283050               0.048216              0.023656              0.033189   \n",
       "PINK1                   0.052586              0.039329              0.033387   \n",
       "...                          ...                   ...                   ...   \n",
       "PMPCA                   0.207417              0.096903              0.162093   \n",
       "GNA14                   0.149070              0.043969              0.091796   \n",
       "DOCK11                  0.207360              0.096599              0.261045   \n",
       "PASD1                   0.193888              0.085774              0.240880   \n",
       "EIF2S3                  0.251651              0.172923              0.233825   \n",
       "\n",
       "             Mayo-PDX-Sarkaria-67  Mayo-PDX-Sarkaria-69  Mayo-PDX-Sarkaria-85  \\\n",
       "Hugo_Symbol                                                                     \n",
       "BRAT1                    0.757052              0.826739              0.848498   \n",
       "MAN1B1                   0.822181              0.725353              0.796867   \n",
       "GBE1                     0.289102              0.282737              0.296432   \n",
       "LOC283050                0.034726              0.081695              0.024967   \n",
       "PINK1                    0.028472              0.046274              0.026302   \n",
       "...                           ...                   ...                   ...   \n",
       "PMPCA                    0.113206              0.136420              0.159153   \n",
       "GNA14                    0.217424              0.242872              0.240431   \n",
       "DOCK11                   0.182353              0.181397              0.183717   \n",
       "PASD1                    0.221807              0.194359              0.129420   \n",
       "EIF2S3                   0.254444              0.299142              0.173464   \n",
       "\n",
       "             Mayo-PDX-Sarkaria-91  \n",
       "Hugo_Symbol                        \n",
       "BRAT1                    0.291064  \n",
       "MAN1B1                   0.678068  \n",
       "GBE1                     0.403204  \n",
       "LOC283050                0.078415  \n",
       "PINK1                    0.331467  \n",
       "...                           ...  \n",
       "PMPCA                    0.316044  \n",
       "GNA14                    0.228265  \n",
       "DOCK11                   0.046517  \n",
       "PASD1                    0.044758  \n",
       "EIF2S3                   0.333044  \n",
       "\n",
       "[25883 rows x 73 columns]"
      ]
     },
     "execution_count": 50,
     "metadata": {},
     "output_type": "execute_result"
    }
   ],
   "source": [
    "mice"
   ]
  }
 ],
 "metadata": {
  "kernelspec": {
   "display_name": "pnet-repro",
   "language": "python",
   "name": "python3"
  },
  "language_info": {
   "codemirror_mode": {
    "name": "ipython",
    "version": 3
   },
   "file_extension": ".py",
   "mimetype": "text/x-python",
   "name": "python",
   "nbconvert_exporter": "python",
   "pygments_lexer": "ipython3",
   "version": "3.9.16"
  }
 },
 "nbformat": 4,
 "nbformat_minor": 5
}
